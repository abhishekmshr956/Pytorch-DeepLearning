{
 "cells": [
  {
   "cell_type": "code",
   "execution_count": 83,
   "metadata": {},
   "outputs": [],
   "source": [
    "import torch\n",
    "from torch import nn\n",
    "import matplotlib.pyplot as plt"
   ]
  },
  {
   "cell_type": "code",
   "execution_count": 84,
   "metadata": {},
   "outputs": [
    {
     "name": "stdout",
     "output_type": "stream",
     "text": [
      "Using device: mps\n"
     ]
    }
   ],
   "source": [
    "if torch.cuda.is_available():\n",
    "    device = torch.device(\"cuda\")\n",
    "elif torch.backends.mps.is_available():\n",
    "    device = torch.device(\"mps\")\n",
    "else:\n",
    "    device = torch.device(\"cpu\")\n",
    "\n",
    "print(f\"Using device: {device}\")"
   ]
  },
  {
   "cell_type": "code",
   "execution_count": 87,
   "metadata": {},
   "outputs": [],
   "source": [
    "weight = 0.3\n",
    "bias = 0.9\n",
    "\n",
    "start = 0\n",
    "end = 1\n",
    "step = 0.01\n",
    "# create 100 evenly spaced points between start and end\n",
    "X = torch.arange(start, end, step).unsqueeze(dim=1).to(device)\n",
    "y = weight * X + bias"
   ]
  },
  {
   "cell_type": "code",
   "execution_count": 88,
   "metadata": {},
   "outputs": [
    {
     "data": {
      "text/plain": [
       "(torch.Size([100, 1]),\n",
       " tensor([[0.0000],\n",
       "         [0.0100],\n",
       "         [0.0200],\n",
       "         [0.0300],\n",
       "         [0.0400],\n",
       "         [0.0500],\n",
       "         [0.0600],\n",
       "         [0.0700],\n",
       "         [0.0800],\n",
       "         [0.0900]], device='mps:0'))"
      ]
     },
     "execution_count": 88,
     "metadata": {},
     "output_type": "execute_result"
    }
   ],
   "source": [
    "X.shape, X[:10]"
   ]
  },
  {
   "cell_type": "code",
   "execution_count": 89,
   "metadata": {},
   "outputs": [
    {
     "data": {
      "text/plain": [
       "device(type='mps', index=0)"
      ]
     },
     "execution_count": 89,
     "metadata": {},
     "output_type": "execute_result"
    }
   ],
   "source": [
    "# check on which device is variable y\n",
    "y.device"
   ]
  },
  {
   "cell_type": "code",
   "execution_count": 90,
   "metadata": {},
   "outputs": [
    {
     "data": {
      "text/plain": [
       "(torch.Size([80, 1]),\n",
       " torch.Size([80, 1]),\n",
       " torch.Size([20, 1]),\n",
       " torch.Size([20, 1]))"
      ]
     },
     "execution_count": 90,
     "metadata": {},
     "output_type": "execute_result"
    }
   ],
   "source": [
    "# Create train, test split\n",
    "train_split = int(0.8 * len(X))\n",
    "X_train, y_train = X[:train_split], y[:train_split]\n",
    "X_test, y_test = X[train_split:], y[train_split:]\n",
    "\n",
    "X_train.shape, y_train.shape, X_test.shape, y_test.shape"
   ]
  },
  {
   "cell_type": "code",
   "execution_count": 91,
   "metadata": {},
   "outputs": [],
   "source": [
    "def plot_predictions(train_data = X_train.cpu(), train_labels = y_train.cpu(),\n",
    "                     test_data = X_test.cpu(), test_labels = y_test.cpu(),\n",
    "                     predictions = None):\n",
    "    plt.scatter(train_data, train_labels, c=\"b\", s=4, label=\"Training Data\")\n",
    "    plt.scatter(test_data, test_labels, c=\"g\", s=4, label = \"Test data\")\n",
    "    if predictions is not None:\n",
    "        plt.scatter(test_data, predictions.cpu(), c=\"r\", s=4, label = \"Predictions\")\n",
    "    plt.legend()"
   ]
  },
  {
   "cell_type": "code",
   "execution_count": 92,
   "metadata": {},
   "outputs": [
    {
     "data": {
      "image/png": "[encoded data removed]",
      "text/plain": [
       "<Figure size 640x480 with 1 Axes>"
      ]
     },
     "metadata": {},
     "output_type": "display_data"
    }
   ],
   "source": [
    "plot_predictions()"
   ]
  },
  {
   "cell_type": "code",
   "execution_count": 93,
   "metadata": {},
   "outputs": [],
   "source": [
    "class LinearRegressionModel(nn.Module):\n",
    "    def __init__(self):\n",
    "        super().__init__()\n",
    "        self.weights = nn.Parameter(torch.randn(1, dtype = torch.float),\n",
    "                                    requires_grad=True)\n",
    "        self.bias = nn.Parameter(torch.randn(1, dtype = torch.float),\n",
    "                                 requires_grad=True)\n",
    "    def forward(self, x: torch.Tensor) -> torch.Tensor:\n",
    "        return self.weights * x + self.bias"
   ]
  },
  {
   "cell_type": "code",
   "execution_count": 94,
   "metadata": {},
   "outputs": [],
   "source": [
    "class LinearRegressionModelV2(nn.Module):\n",
    "    def __init__(self):\n",
    "        super().__init__()\n",
    "        self.linear_layer = nn.Linear(in_features=1, out_features=1)\n",
    "    def forward(self, x: torch.Tensor) -> torch.Tensor:\n",
    "        return self.linear_layer(x)"
   ]
  },
  {
   "cell_type": "code",
   "execution_count": 95,
   "metadata": {},
   "outputs": [
    {
     "data": {
      "text/plain": [
       "LinearRegressionModelV2(\n",
       "  (linear_layer): Linear(in_features=1, out_features=1, bias=True)\n",
       ")"
      ]
     },
     "execution_count": 95,
     "metadata": {},
     "output_type": "execute_result"
    }
   ],
   "source": [
    "torch.manual_seed(42)\n",
    "\n",
    "model_0 = LinearRegressionModel()\n",
    "model_1 = LinearRegressionModelV2()\n",
    "\n",
    "model_0.to(device)\n",
    "model_1.to(device)"
   ]
  },
  {
   "cell_type": "code",
   "execution_count": 96,
   "metadata": {},
   "outputs": [
    {
     "data": {
      "text/plain": [
       "(device(type='mps', index=0), device(type='mps', index=0))"
      ]
     },
     "execution_count": 96,
     "metadata": {},
     "output_type": "execute_result"
    }
   ],
   "source": [
    "next(model_1.parameters()).device, X_train.device"
   ]
  },
  {
   "cell_type": "code",
   "execution_count": 97,
   "metadata": {},
   "outputs": [
    {
     "data": {
      "text/plain": [
       "(OrderedDict([('weights', tensor([0.3367], device='mps:0')),\n",
       "              ('bias', tensor([0.1288], device='mps:0'))]),\n",
       " OrderedDict([('linear_layer.weight', tensor([[-0.2191]], device='mps:0')),\n",
       "              ('linear_layer.bias', tensor([0.2018], device='mps:0'))]))"
      ]
     },
     "execution_count": 97,
     "metadata": {},
     "output_type": "execute_result"
    }
   ],
   "source": [
    "model_0.state_dict(), model_1.state_dict()"
   ]
  },
  {
   "cell_type": "code",
   "execution_count": 98,
   "metadata": {},
   "outputs": [],
   "source": [
    "loss_fn = nn.L1Loss()\n",
    "optimizer = torch.optim.SGD(model_0.parameters(), lr = 0.01)"
   ]
  },
  {
   "cell_type": "code",
   "execution_count": 99,
   "metadata": {},
   "outputs": [
    {
     "name": "stdout",
     "output_type": "stream",
     "text": [
      "Epoch: 0 | Train Loss: 0.7566978931427002 | Test Loss: 0.7248174548149109\n",
      "Epoch: 20 | Train Loss: 0.5254929065704346 | Test Loss: 0.4541124403476715\n",
      "Epoch: 40 | Train Loss: 0.2942880392074585 | Test Loss: 0.18340764939785004\n",
      "Epoch: 60 | Train Loss: 0.07658576965332031 | Test Loss: 0.07274086028337479\n",
      "Epoch: 80 | Train Loss: 0.05255373939871788 | Test Loss: 0.11581540107727051\n",
      "Epoch: 100 | Train Loss: 0.04554273188114166 | Test Loss: 0.10467890650033951\n",
      "Epoch: 120 | Train Loss: 0.038688670843839645 | Test Loss: 0.08938358724117279\n",
      "Epoch: 140 | Train Loss: 0.03183453530073166 | Test Loss: 0.07408786565065384\n",
      "Epoch: 160 | Train Loss: 0.024982361122965813 | Test Loss: 0.0581042543053627\n",
      "Epoch: 180 | Train Loss: 0.018130186945199966 | Test Loss: 0.04212063178420067\n",
      "Epoch: 200 | Train Loss: 0.011278990656137466 | Test Loss: 0.02579306997358799\n",
      "Epoch: 220 | Train Loss: 0.004429381340742111 | Test Loss: 0.009467745199799538\n",
      "Epoch: 240 | Train Loss: 0.00370177929289639 | Test Loss: 0.006489444058388472\n",
      "Epoch: 260 | Train Loss: 0.00370177929289639 | Test Loss: 0.006489444058388472\n",
      "Epoch: 280 | Train Loss: 0.00370177929289639 | Test Loss: 0.006489444058388472\n",
      "Epoch: 300 | Train Loss: 0.00370177929289639 | Test Loss: 0.006489444058388472\n",
      "Epoch: 320 | Train Loss: 0.00370177929289639 | Test Loss: 0.006489444058388472\n",
      "Epoch: 340 | Train Loss: 0.00370177929289639 | Test Loss: 0.006489444058388472\n",
      "Epoch: 360 | Train Loss: 0.00370177929289639 | Test Loss: 0.006489444058388472\n",
      "Epoch: 380 | Train Loss: 0.00370177929289639 | Test Loss: 0.006489444058388472\n",
      "Epoch: 400 | Train Loss: 0.00370177929289639 | Test Loss: 0.006489444058388472\n",
      "Epoch: 420 | Train Loss: 0.00370177929289639 | Test Loss: 0.006489444058388472\n",
      "Epoch: 440 | Train Loss: 0.00370177929289639 | Test Loss: 0.006489444058388472\n",
      "Epoch: 460 | Train Loss: 0.00370177929289639 | Test Loss: 0.006489444058388472\n",
      "Epoch: 480 | Train Loss: 0.00370177929289639 | Test Loss: 0.006489444058388472\n",
      "Epoch: 500 | Train Loss: 0.00370177929289639 | Test Loss: 0.006489444058388472\n",
      "Epoch: 520 | Train Loss: 0.00370177929289639 | Test Loss: 0.006489444058388472\n",
      "Epoch: 540 | Train Loss: 0.00370177929289639 | Test Loss: 0.006489444058388472\n",
      "Epoch: 560 | Train Loss: 0.00370177929289639 | Test Loss: 0.006489444058388472\n",
      "Epoch: 580 | Train Loss: 0.00370177929289639 | Test Loss: 0.006489444058388472\n",
      "Epoch: 600 | Train Loss: 0.00370177929289639 | Test Loss: 0.006489444058388472\n",
      "Epoch: 620 | Train Loss: 0.00370177929289639 | Test Loss: 0.006489444058388472\n",
      "Epoch: 640 | Train Loss: 0.00370177929289639 | Test Loss: 0.006489444058388472\n",
      "Epoch: 660 | Train Loss: 0.00370177929289639 | Test Loss: 0.006489444058388472\n",
      "Epoch: 680 | Train Loss: 0.00370177929289639 | Test Loss: 0.006489444058388472\n",
      "Epoch: 700 | Train Loss: 0.00370177929289639 | Test Loss: 0.006489444058388472\n",
      "Epoch: 720 | Train Loss: 0.00370177929289639 | Test Loss: 0.006489444058388472\n",
      "Epoch: 740 | Train Loss: 0.00370177929289639 | Test Loss: 0.006489444058388472\n",
      "Epoch: 760 | Train Loss: 0.00370177929289639 | Test Loss: 0.006489444058388472\n",
      "Epoch: 780 | Train Loss: 0.00370177929289639 | Test Loss: 0.006489444058388472\n",
      "Epoch: 800 | Train Loss: 0.00370177929289639 | Test Loss: 0.006489444058388472\n",
      "Epoch: 820 | Train Loss: 0.00370177929289639 | Test Loss: 0.006489444058388472\n",
      "Epoch: 840 | Train Loss: 0.00370177929289639 | Test Loss: 0.006489444058388472\n",
      "Epoch: 860 | Train Loss: 0.00370177929289639 | Test Loss: 0.006489444058388472\n",
      "Epoch: 880 | Train Loss: 0.00370177929289639 | Test Loss: 0.006489444058388472\n",
      "Epoch: 900 | Train Loss: 0.00370177929289639 | Test Loss: 0.006489444058388472\n",
      "Epoch: 920 | Train Loss: 0.00370177929289639 | Test Loss: 0.006489444058388472\n",
      "Epoch: 940 | Train Loss: 0.00370177929289639 | Test Loss: 0.006489444058388472\n",
      "Epoch: 960 | Train Loss: 0.00370177929289639 | Test Loss: 0.006489444058388472\n",
      "Epoch: 980 | Train Loss: 0.00370177929289639 | Test Loss: 0.006489444058388472\n"
     ]
    }
   ],
   "source": [
    "torch.manual_seed(42)\n",
    "epochs = 1000\n",
    "\n",
    "train_loss_values = []\n",
    "test_loss_values = []\n",
    "epoch_count = []\n",
    "\n",
    "for epoch in range(epochs):\n",
    "    model_0.train()\n",
    "    y_preds = model_0(X_train)\n",
    "    loss = loss_fn(y_preds, y_train)\n",
    "    optimizer.zero_grad()\n",
    "    loss.backward()\n",
    "    optimizer.step()\n",
    "\n",
    "    model_0.eval()\n",
    "    with torch.inference_mode():\n",
    "        test_preds = model_0(X_test)\n",
    "        test_loss = loss_fn(test_preds, y_test)\n",
    "        if epoch%20 == 0:\n",
    "            epoch_count.append(epoch)\n",
    "            train_loss_values.append(loss.detach().cpu().numpy())\n",
    "            test_loss_values.append(test_loss.detach().cpu().numpy())\n",
    "\n",
    "            print(f\"Epoch: {epoch} | Train Loss: {loss.item()} | Test Loss: {test_loss.item()}\")\n",
    "\n"
   ]
  },
  {
   "cell_type": "code",
   "execution_count": 100,
   "metadata": {},
   "outputs": [
    {
     "data": {
      "text/plain": [
       "<matplotlib.legend.Legend at 0x2b406df70>"
      ]
     },
     "execution_count": 100,
     "metadata": {},
     "output_type": "execute_result"
    },
    {
     "data": {
      "image/png": "[encoded data removed]",
      "text/plain": [
       "<Figure size 640x480 with 1 Axes>"
      ]
     },
     "metadata": {},
     "output_type": "display_data"
    }
   ],
   "source": [
    "plt.plot(epoch_count, train_loss_values, label = \"Train Loss\")\n",
    "plt.plot(epoch_count, test_loss_values, label = \"Test Loss\")\n",
    "plt.legend()"
   ]
  },
  {
   "cell_type": "code",
   "execution_count": 101,
   "metadata": {},
   "outputs": [
    {
     "data": {
      "text/plain": [
       "tensor([[1.1464],\n",
       "        [1.1495],\n",
       "        [1.1525],\n",
       "        [1.1556],\n",
       "        [1.1587],\n",
       "        [1.1617],\n",
       "        [1.1648],\n",
       "        [1.1679],\n",
       "        [1.1709],\n",
       "        [1.1740]], device='mps:0')"
      ]
     },
     "execution_count": 101,
     "metadata": {},
     "output_type": "execute_result"
    }
   ],
   "source": [
    "model_0.eval()\n",
    "with torch.inference_mode():\n",
    "    test_predictions = model_0(X_test)\n",
    "test_predictions[:10]"
   ]
  },
  {
   "cell_type": "code",
   "execution_count": 102,
   "metadata": {},
   "outputs": [
    {
     "data": {
      "image/png": "[encoded data removed]",
      "text/plain": [
       "<Figure size 640x480 with 1 Axes>"
      ]
     },
     "metadata": {},
     "output_type": "display_data"
    }
   ],
   "source": [
    "plot_predictions(predictions=test_predictions)"
   ]
  },
  {
   "cell_type": "code",
   "execution_count": 103,
   "metadata": {},
   "outputs": [
    {
     "data": {
      "text/plain": [
       "OrderedDict([('weights', tensor([0.3067], device='mps:0')),\n",
       "             ('bias', tensor([0.9011], device='mps:0'))])"
      ]
     },
     "execution_count": 103,
     "metadata": {},
     "output_type": "execute_result"
    }
   ],
   "source": [
    "model_0.state_dict()"
   ]
  },
  {
   "cell_type": "code",
   "execution_count": 104,
   "metadata": {},
   "outputs": [
    {
     "name": "stdout",
     "output_type": "stream",
     "text": [
      "Saving them model to: models/01_PyTorchWorkFlow_exercise.pth\n"
     ]
    }
   ],
   "source": [
    "from pathlib import Path\n",
    "\n",
    "MODEL_PATH = Path(\"models\")\n",
    "MODEL_PATH.mkdir(parents = True, exist_ok = True)\n",
    "\n",
    "MODEL_NAME = \"01_PyTorchWorkFlow_exercise.pth\"\n",
    "MODEL_SAVE_PATH = MODEL_PATH / MODEL_NAME\n",
    "\n",
    "print(f\"Saving them model to: {MODEL_SAVE_PATH}\")\n",
    "torch.save(model_0.state_dict(), MODEL_SAVE_PATH)"
   ]
  },
  {
   "cell_type": "code",
   "execution_count": 105,
   "metadata": {},
   "outputs": [
    {
     "name": "stderr",
     "output_type": "stream",
     "text": [
      "/var/folders/sz/gk2spb8j48nd7k74nz3bmv8w0000gn/T/ipykernel_59629/2429953394.py:2: FutureWarning: You are using `torch.load` with `weights_only=False` (the current default value), which uses the default pickle module implicitly. It is possible to construct malicious pickle data which will execute arbitrary code during unpickling (See https://github.com/pytorch/pytorch/blob/main/SECURITY.md#untrusted-models for more details). In a future release, the default value for `weights_only` will be flipped to `True`. This limits the functions that could be executed during unpickling. Arbitrary objects will no longer be allowed to be loaded via this mode unless they are explicitly allowlisted by the user via `torch.serialization.add_safe_globals`. We recommend you start setting `weights_only=True` for any use case where you don't have full control of the loaded file. Please open an issue on GitHub for any issues related to this experimental feature.\n",
      "  loaded_model_0.load_state_dict(torch.load(MODEL_SAVE_PATH))\n"
     ]
    },
    {
     "data": {
      "text/plain": [
       "LinearRegressionModel()"
      ]
     },
     "execution_count": 105,
     "metadata": {},
     "output_type": "execute_result"
    }
   ],
   "source": [
    "loaded_model_0 = LinearRegressionModel()\n",
    "loaded_model_0.load_state_dict(torch.load(MODEL_SAVE_PATH))\n",
    "\n",
    "loaded_model_0.to(device)"
   ]
  },
  {
   "cell_type": "code",
   "execution_count": 106,
   "metadata": {},
   "outputs": [
    {
     "data": {
      "text/plain": [
       "tensor([[True],\n",
       "        [True],\n",
       "        [True],\n",
       "        [True],\n",
       "        [True],\n",
       "        [True],\n",
       "        [True],\n",
       "        [True],\n",
       "        [True],\n",
       "        [True],\n",
       "        [True],\n",
       "        [True],\n",
       "        [True],\n",
       "        [True],\n",
       "        [True],\n",
       "        [True],\n",
       "        [True],\n",
       "        [True],\n",
       "        [True],\n",
       "        [True]], device='mps:0')"
      ]
     },
     "execution_count": 106,
     "metadata": {},
     "output_type": "execute_result"
    }
   ],
   "source": [
    "loaded_model_0.eval()\n",
    "with torch.inference_mode():\n",
    "    loaded_model_0_predictions = loaded_model_0(X_test)\n",
    "test_predictions == loaded_model_0_predictions"
   ]
  },
  {
   "cell_type": "code",
   "execution_count": null,
   "metadata": {},
   "outputs": [],
   "source": []
  },
  {
   "cell_type": "code",
   "execution_count": null,
   "metadata": {},
   "outputs": [],
   "source": []
  }
 ],
 "metadata": {
  "kernelspec": {
   "display_name": "DeepLearning",
   "language": "python",
   "name": "python3"
  },
  "language_info": {
   "codemirror_mode": {
    "name": "ipython",
    "version": 3
   },
   "file_extension": ".py",
   "mimetype": "text/x-python",
   "name": "python",
   "nbconvert_exporter": "python",
   "pygments_lexer": "ipython3",
   "version": "3.12.5"
  }
 },
 "nbformat": 4,
 "nbformat_minor": 2
}
